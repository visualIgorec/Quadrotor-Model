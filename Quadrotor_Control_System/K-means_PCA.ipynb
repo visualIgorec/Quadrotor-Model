{
 "cells": [
  {
   "cell_type": "code",
   "execution_count": 83,
   "metadata": {},
   "outputs": [],
   "source": [
    "import pandas as pd\n",
    "import matplotlib\n",
    "import numpy as np\n",
    "import matplotlib.pyplot as plt\n",
    "from sklearn.cluster import KMeans"
   ]
  },
  {
   "cell_type": "code",
   "execution_count": 84,
   "metadata": {},
   "outputs": [
    {
     "data": {
      "text/html": [
       "<div>\n",
       "<style scoped>\n",
       "    .dataframe tbody tr th:only-of-type {\n",
       "        vertical-align: middle;\n",
       "    }\n",
       "\n",
       "    .dataframe tbody tr th {\n",
       "        vertical-align: top;\n",
       "    }\n",
       "\n",
       "    .dataframe thead th {\n",
       "        text-align: right;\n",
       "    }\n",
       "</style>\n",
       "<table border=\"1\" class=\"dataframe\">\n",
       "  <thead>\n",
       "    <tr style=\"text-align: right;\">\n",
       "      <th></th>\n",
       "      <th>x</th>\n",
       "      <th>y</th>\n",
       "      <th>z</th>\n",
       "      <th>d_x</th>\n",
       "      <th>d_y</th>\n",
       "      <th>d_z</th>\n",
       "      <th>fi</th>\n",
       "      <th>thetta</th>\n",
       "      <th>psi</th>\n",
       "      <th>d_fi</th>\n",
       "      <th>d_thetta</th>\n",
       "      <th>d_psi</th>\n",
       "    </tr>\n",
       "  </thead>\n",
       "  <tbody>\n",
       "    <tr>\n",
       "      <th>0</th>\n",
       "      <td>0.997670</td>\n",
       "      <td>0.981601</td>\n",
       "      <td>0.998441</td>\n",
       "      <td>0.052944</td>\n",
       "      <td>-0.047965</td>\n",
       "      <td>0.007129</td>\n",
       "      <td>0.571426</td>\n",
       "      <td>0.546076</td>\n",
       "      <td>0.521865</td>\n",
       "      <td>-0.125533</td>\n",
       "      <td>-0.014673</td>\n",
       "      <td>0.020927</td>\n",
       "    </tr>\n",
       "    <tr>\n",
       "      <th>1</th>\n",
       "      <td>1.020329</td>\n",
       "      <td>0.950854</td>\n",
       "      <td>0.992265</td>\n",
       "      <td>-0.119771</td>\n",
       "      <td>0.051500</td>\n",
       "      <td>-0.084709</td>\n",
       "      <td>0.527034</td>\n",
       "      <td>0.545367</td>\n",
       "      <td>0.526761</td>\n",
       "      <td>-0.854249</td>\n",
       "      <td>-0.474678</td>\n",
       "      <td>-0.108012</td>\n",
       "    </tr>\n",
       "    <tr>\n",
       "      <th>2</th>\n",
       "      <td>0.998375</td>\n",
       "      <td>0.925627</td>\n",
       "      <td>0.978745</td>\n",
       "      <td>0.095955</td>\n",
       "      <td>-0.200215</td>\n",
       "      <td>-0.019342</td>\n",
       "      <td>0.658326</td>\n",
       "      <td>0.593212</td>\n",
       "      <td>0.511661</td>\n",
       "      <td>0.281087</td>\n",
       "      <td>0.218465</td>\n",
       "      <td>0.024043</td>\n",
       "    </tr>\n",
       "    <tr>\n",
       "      <th>3</th>\n",
       "      <td>0.999966</td>\n",
       "      <td>0.999860</td>\n",
       "      <td>1.000000</td>\n",
       "      <td>0.000034</td>\n",
       "      <td>0.000140</td>\n",
       "      <td>0.000003</td>\n",
       "      <td>0.523584</td>\n",
       "      <td>0.523602</td>\n",
       "      <td>0.523572</td>\n",
       "      <td>0.000014</td>\n",
       "      <td>-0.000004</td>\n",
       "      <td>0.000028</td>\n",
       "    </tr>\n",
       "    <tr>\n",
       "      <th>4</th>\n",
       "      <td>0.993500</td>\n",
       "      <td>1.017797</td>\n",
       "      <td>1.003141</td>\n",
       "      <td>-0.040797</td>\n",
       "      <td>0.087278</td>\n",
       "      <td>0.000783</td>\n",
       "      <td>0.461181</td>\n",
       "      <td>0.488679</td>\n",
       "      <td>0.522015</td>\n",
       "      <td>-0.126420</td>\n",
       "      <td>-0.096365</td>\n",
       "      <td>-0.018234</td>\n",
       "    </tr>\n",
       "  </tbody>\n",
       "</table>\n",
       "</div>"
      ],
      "text/plain": [
       "          x         y         z       d_x       d_y       d_z        fi  \\\n",
       "0  0.997670  0.981601  0.998441  0.052944 -0.047965  0.007129  0.571426   \n",
       "1  1.020329  0.950854  0.992265 -0.119771  0.051500 -0.084709  0.527034   \n",
       "2  0.998375  0.925627  0.978745  0.095955 -0.200215 -0.019342  0.658326   \n",
       "3  0.999966  0.999860  1.000000  0.000034  0.000140  0.000003  0.523584   \n",
       "4  0.993500  1.017797  1.003141 -0.040797  0.087278  0.000783  0.461181   \n",
       "\n",
       "     thetta       psi      d_fi  d_thetta     d_psi  \n",
       "0  0.546076  0.521865 -0.125533 -0.014673  0.020927  \n",
       "1  0.545367  0.526761 -0.854249 -0.474678 -0.108012  \n",
       "2  0.593212  0.511661  0.281087  0.218465  0.024043  \n",
       "3  0.523602  0.523572  0.000014 -0.000004  0.000028  \n",
       "4  0.488679  0.522015 -0.126420 -0.096365 -0.018234  "
      ]
     },
     "execution_count": 84,
     "metadata": {},
     "output_type": "execute_result"
    }
   ],
   "source": [
    "Data = pd.read_csv('Data_Set.csv', encoding='latin-1')\n",
    "train_Data_pre = Data['Outcome']\n",
    "del Data['Outcome']\n",
    "Data.head()"
   ]
  },
  {
   "cell_type": "code",
   "execution_count": 85,
   "metadata": {},
   "outputs": [
    {
     "data": {
      "text/plain": [
       "[<matplotlib.lines.Line2D at 0x1984765c4c0>]"
      ]
     },
     "execution_count": 85,
     "metadata": {},
     "output_type": "execute_result"
    },
    {
     "data": {
      "image/png": "[encoded data removed]",
      "text/plain": [
       "<Figure size 432x288 with 1 Axes>"
      ]
     },
     "metadata": {
      "needs_background": "light"
     },
     "output_type": "display_data"
    }
   ],
   "source": [
    "# Метод главных компонент PCA - уменьшаем размерность данных\n",
    "data_numpy = Data.to_numpy() # Конвертация в numpy массив\n",
    "data_features = data_numpy[:,:12]\n",
    "\n",
    "from sklearn.decomposition import PCA\n",
    "\n",
    "pca = PCA(n_components = 11, svd_solver='full') #Создание объекта класса PCA. В качестве параметров выступает количество ГК и метод оптимизации\n",
    "#data_features_transformed = pca.fit(data_features).transform(data_features) # С учетом 11 компонент\n",
    "data_features_transformed = pca.fit(data_features)\n",
    "\n",
    "# Найдем долю объясненной дисперсии в зависимости от количества используемых ГК.\n",
    "explained_variance = np.round(np.cumsum(pca.explained_variance_ratio_), 3)\n",
    "\n",
    "# Построим график зависимости доли объясненной дисперсии от количества используемых ГК\n",
    "plt.plot(np.arange(11), explained_variance, ls = '-')"
   ]
  },
  {
   "cell_type": "code",
   "execution_count": 86,
   "metadata": {},
   "outputs": [
    {
     "data": {
      "text/html": [
       "<div>\n",
       "<style scoped>\n",
       "    .dataframe tbody tr th:only-of-type {\n",
       "        vertical-align: middle;\n",
       "    }\n",
       "\n",
       "    .dataframe tbody tr th {\n",
       "        vertical-align: top;\n",
       "    }\n",
       "\n",
       "    .dataframe thead th {\n",
       "        text-align: right;\n",
       "    }\n",
       "</style>\n",
       "<table border=\"1\" class=\"dataframe\">\n",
       "  <thead>\n",
       "    <tr style=\"text-align: right;\">\n",
       "      <th></th>\n",
       "      <th>0</th>\n",
       "      <th>1</th>\n",
       "    </tr>\n",
       "  </thead>\n",
       "  <tbody>\n",
       "    <tr>\n",
       "      <th>0</th>\n",
       "      <td>-0.216627</td>\n",
       "      <td>-0.081210</td>\n",
       "    </tr>\n",
       "    <tr>\n",
       "      <th>1</th>\n",
       "      <td>-0.960368</td>\n",
       "      <td>0.281878</td>\n",
       "    </tr>\n",
       "    <tr>\n",
       "      <th>2</th>\n",
       "      <td>0.205735</td>\n",
       "      <td>-0.313994</td>\n",
       "    </tr>\n",
       "    <tr>\n",
       "      <th>3</th>\n",
       "      <td>-0.152854</td>\n",
       "      <td>-0.163970</td>\n",
       "    </tr>\n",
       "    <tr>\n",
       "      <th>4</th>\n",
       "      <td>-0.303291</td>\n",
       "      <td>-0.088900</td>\n",
       "    </tr>\n",
       "    <tr>\n",
       "      <th>...</th>\n",
       "      <td>...</td>\n",
       "      <td>...</td>\n",
       "    </tr>\n",
       "    <tr>\n",
       "      <th>2995</th>\n",
       "      <td>-0.152904</td>\n",
       "      <td>-0.164085</td>\n",
       "    </tr>\n",
       "    <tr>\n",
       "      <th>2996</th>\n",
       "      <td>-0.462543</td>\n",
       "      <td>0.209675</td>\n",
       "    </tr>\n",
       "    <tr>\n",
       "      <th>2997</th>\n",
       "      <td>0.026077</td>\n",
       "      <td>0.162566</td>\n",
       "    </tr>\n",
       "    <tr>\n",
       "      <th>2998</th>\n",
       "      <td>-0.150940</td>\n",
       "      <td>-0.159757</td>\n",
       "    </tr>\n",
       "    <tr>\n",
       "      <th>2999</th>\n",
       "      <td>-0.199452</td>\n",
       "      <td>-0.251583</td>\n",
       "    </tr>\n",
       "  </tbody>\n",
       "</table>\n",
       "<p>3000 rows × 2 columns</p>\n",
       "</div>"
      ],
      "text/plain": [
       "             0         1\n",
       "0    -0.216627 -0.081210\n",
       "1    -0.960368  0.281878\n",
       "2     0.205735 -0.313994\n",
       "3    -0.152854 -0.163970\n",
       "4    -0.303291 -0.088900\n",
       "...        ...       ...\n",
       "2995 -0.152904 -0.164085\n",
       "2996 -0.462543  0.209675\n",
       "2997  0.026077  0.162566\n",
       "2998 -0.150940 -0.159757\n",
       "2999 -0.199452 -0.251583\n",
       "\n",
       "[3000 rows x 2 columns]"
      ]
     },
     "execution_count": 86,
     "metadata": {},
     "output_type": "execute_result"
    }
   ],
   "source": [
    "# Преобразованный массив признаков по методу PCA\n",
    "pca = PCA(n_components = 2, svd_solver='full') \n",
    "data_features_transformed = pca.fit(data_features).transform(data_features) # С учетом 3 компонент\n",
    "data_features = pd.DataFrame(data_features_transformed) # из numpy --> pandas\n",
    "data_features"
   ]
  },
  {
   "cell_type": "code",
   "execution_count": 87,
   "metadata": {},
   "outputs": [
    {
     "data": {
      "text/html": [
       "<div>\n",
       "<style scoped>\n",
       "    .dataframe tbody tr th:only-of-type {\n",
       "        vertical-align: middle;\n",
       "    }\n",
       "\n",
       "    .dataframe tbody tr th {\n",
       "        vertical-align: top;\n",
       "    }\n",
       "\n",
       "    .dataframe thead th {\n",
       "        text-align: right;\n",
       "    }\n",
       "</style>\n",
       "<table border=\"1\" class=\"dataframe\">\n",
       "  <thead>\n",
       "    <tr style=\"text-align: right;\">\n",
       "      <th></th>\n",
       "      <th>0</th>\n",
       "      <th>1</th>\n",
       "    </tr>\n",
       "  </thead>\n",
       "  <tbody>\n",
       "    <tr>\n",
       "      <th>0</th>\n",
       "      <td>-0.369059</td>\n",
       "      <td>-0.177776</td>\n",
       "    </tr>\n",
       "    <tr>\n",
       "      <th>1</th>\n",
       "      <td>-1.636139</td>\n",
       "      <td>0.617054</td>\n",
       "    </tr>\n",
       "    <tr>\n",
       "      <th>2</th>\n",
       "      <td>0.350502</td>\n",
       "      <td>-0.687359</td>\n",
       "    </tr>\n",
       "    <tr>\n",
       "      <th>3</th>\n",
       "      <td>-0.260411</td>\n",
       "      <td>-0.358943</td>\n",
       "    </tr>\n",
       "    <tr>\n",
       "      <th>4</th>\n",
       "      <td>-0.516705</td>\n",
       "      <td>-0.194610</td>\n",
       "    </tr>\n",
       "    <tr>\n",
       "      <th>...</th>\n",
       "      <td>...</td>\n",
       "      <td>...</td>\n",
       "    </tr>\n",
       "    <tr>\n",
       "      <th>2995</th>\n",
       "      <td>-0.260496</td>\n",
       "      <td>-0.359194</td>\n",
       "    </tr>\n",
       "    <tr>\n",
       "      <th>2996</th>\n",
       "      <td>-0.788015</td>\n",
       "      <td>0.458996</td>\n",
       "    </tr>\n",
       "    <tr>\n",
       "      <th>2997</th>\n",
       "      <td>0.044426</td>\n",
       "      <td>0.355870</td>\n",
       "    </tr>\n",
       "    <tr>\n",
       "      <th>2998</th>\n",
       "      <td>-0.257151</td>\n",
       "      <td>-0.349721</td>\n",
       "    </tr>\n",
       "    <tr>\n",
       "      <th>2999</th>\n",
       "      <td>-0.339798</td>\n",
       "      <td>-0.550735</td>\n",
       "    </tr>\n",
       "  </tbody>\n",
       "</table>\n",
       "<p>3000 rows × 2 columns</p>\n",
       "</div>"
      ],
      "text/plain": [
       "             0         1\n",
       "0    -0.369059 -0.177776\n",
       "1    -1.636139  0.617054\n",
       "2     0.350502 -0.687359\n",
       "3    -0.260411 -0.358943\n",
       "4    -0.516705 -0.194610\n",
       "...        ...       ...\n",
       "2995 -0.260496 -0.359194\n",
       "2996 -0.788015  0.458996\n",
       "2997  0.044426  0.355870\n",
       "2998 -0.257151 -0.349721\n",
       "2999 -0.339798 -0.550735\n",
       "\n",
       "[3000 rows x 2 columns]"
      ]
     },
     "execution_count": 87,
     "metadata": {},
     "output_type": "execute_result"
    }
   ],
   "source": [
    "# Нормализация данных\n",
    "from sklearn import preprocessing\n",
    "normalization = preprocessing.StandardScaler().fit(data_features)\n",
    "data_features = normalization.transform(data_features)\n",
    "data_features = pd.DataFrame(data = data_features)  # Перевод из numpy ---> pandas\n",
    "data_features"
   ]
  },
  {
   "cell_type": "code",
   "execution_count": 88,
   "metadata": {},
   "outputs": [],
   "source": [
    "# Задание параметров модели k-means\n",
    "kmeans = KMeans(algorithm = 'auto', n_clusters = 2, init = 'k-means++', \n",
    "                n_init = 10, max_iter = 1000, tol = 0.0001, verbose = 0, random_state = 42).fit(data_features)"
   ]
  },
  {
   "cell_type": "code",
   "execution_count": 89,
   "metadata": {},
   "outputs": [
    {
     "data": {
      "text/plain": [
       "array([0, 0, 0, ..., 0, 0, 0])"
      ]
     },
     "execution_count": 89,
     "metadata": {},
     "output_type": "execute_result"
    }
   ],
   "source": [
    "# Назначеные кластеры (классы) для тренировочных данных\n",
    "labels_train = kmeans.labels_\n",
    "labels_train"
   ]
  },
  {
   "cell_type": "code",
   "execution_count": 90,
   "metadata": {},
   "outputs": [
    {
     "data": {
      "text/plain": [
       "array([[-0.21607654, -0.25413044],\n",
       "       [ 1.68489008,  1.9816212 ]])"
      ]
     },
     "execution_count": 90,
     "metadata": {},
     "output_type": "execute_result"
    }
   ],
   "source": [
    "# Координаты вычисленных центроидов\n",
    "kmeans.cluster_centers_"
   ]
  },
  {
   "cell_type": "code",
   "execution_count": 91,
   "metadata": {},
   "outputs": [
    {
     "data": {
      "text/plain": [
       "0.7097190052767641"
      ]
     },
     "execution_count": 91,
     "metadata": {},
     "output_type": "execute_result"
    }
   ],
   "source": [
    "# Расчет коэффициента Силуета (Silhouette coefficient), который характеризуюет степень разделенности кластеров относительно друг друга\n",
    "from sklearn.metrics import silhouette_score\n",
    "Sil_score = silhouette_score(train_Data, labels_train)\n",
    "Sil_score"
   ]
  },
  {
   "cell_type": "code",
   "execution_count": 92,
   "metadata": {},
   "outputs": [
    {
     "data": {
      "text/plain": [
       "3000"
      ]
     },
     "execution_count": 92,
     "metadata": {},
     "output_type": "execute_result"
    }
   ],
   "source": [
    "len(data_features)"
   ]
  },
  {
   "cell_type": "code",
   "execution_count": 93,
   "metadata": {},
   "outputs": [
    {
     "name": "stdout",
     "output_type": "stream",
     "text": [
      "Number of Zeros is appointed by K-means:  2659 Number of Zeros is appointed by me:  1500 \n",
      " Number of units is appointed by K-means:  341 Number of units is appointed by me:  1500\n"
     ]
    }
   ],
   "source": [
    "# from model on train_data\n",
    "i = 0\n",
    "n = 0\n",
    "number_labels_zero = [i for j in labels_train if j == 0]\n",
    "model_labels_zero = len(number_labels_zero)\n",
    "number_labels_one = [n for m in labels_train if m == 1]\n",
    "model_labels_one = len(number_labels_one)\n",
    "\n",
    "# from train_data (truth)\n",
    "i = 0\n",
    "n = 0\n",
    "number_labels_zero = [i for j in train_Data_pre if j == 0]\n",
    "target_labels_zero = len(number_labels_zero)\n",
    "number_labels_one = [n for m in train_Data_pre if m == 1]\n",
    "target_labels_one = len(number_labels_one)\n",
    "\n",
    "print('Number of Zeros is appointed by K-means: ', model_labels_zero,\n",
    "      'Number of Zeros is appointed by me: ', target_labels_zero, '\\n',\n",
    "      'Number of units is appointed by K-means: ', model_labels_one,\n",
    "      'Number of units is appointed by me: ', target_labels_one)"
   ]
  },
  {
   "cell_type": "code",
   "execution_count": 94,
   "metadata": {},
   "outputs": [],
   "source": [
    "K = range(1,12)\n",
    "models = [KMeans(algorithm = 'auto', n_clusters = cluster, init = 'k-means++', \n",
    "                n_init = 10, max_iter = 1000, tol = 0.00001, verbose = 0, random_state = 42).fit(data_features) for cluster in K]\n",
    "sum_dist = [model.inertia_ for model in models]"
   ]
  },
  {
   "cell_type": "code",
   "execution_count": 95,
   "metadata": {},
   "outputs": [
    {
     "data": {
      "text/plain": [
       "[<matplotlib.lines.Line2D at 0x198486d5bb0>]"
      ]
     },
     "execution_count": 95,
     "metadata": {},
     "output_type": "execute_result"
    },
    {
     "data": {
      "image/png": "[encoded data removed]",
      "text/plain": [
       "<Figure size 720x720 with 1 Axes>"
      ]
     },
     "metadata": {
      "needs_background": "light"
     },
     "output_type": "display_data"
    }
   ],
   "source": [
    "# График зависимости средней кластерной суммы расстояний от числа кластеров (Elbow method)\n",
    "plt.subplots(figsize = (10,10))\n",
    "plt.title('The Elbow method for choosing optimal cluster numbers', fontsize = 18)\n",
    "plt.xlabel('k - Clusters', fontsize = 18)\n",
    "plt.ylabel('W(k) - Sum of distances', fontsize = 18)\n",
    "plt.tick_params(axis = 'both', which = 'major', labelsize = 12)\n",
    "plt.grid() \n",
    "plt.plot(K, sum_dist, marker = 'o', color ='r') "
   ]
  }
 ],
 "metadata": {
  "kernelspec": {
   "display_name": "Python 3",
   "language": "python",
   "name": "python3"
  },
  "language_info": {
   "codemirror_mode": {
    "name": "ipython",
    "version": 3
   },
   "file_extension": ".py",
   "mimetype": "text/x-python",
   "name": "python",
   "nbconvert_exporter": "python",
   "pygments_lexer": "ipython3",
   "version": "3.8.5"
  }
 },
 "nbformat": 4,
 "nbformat_minor": 4
}
