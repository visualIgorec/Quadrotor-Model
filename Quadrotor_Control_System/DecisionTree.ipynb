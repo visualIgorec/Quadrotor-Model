{
 "cells": [
  {
   "cell_type": "code",
   "execution_count": 240,
   "metadata": {},
   "outputs": [],
   "source": [
    "import pandas as pd\n",
    "import matplotlib\n",
    "import numpy as np\n",
    "import matplotlib.pyplot as plt\n",
    "# from sklearn.utils import shuffle\n",
    "%matplotlib inline "
   ]
  },
  {
   "cell_type": "code",
   "execution_count": 241,
   "metadata": {},
   "outputs": [],
   "source": [
    "# Загрузка DataSet (уже перемешали)\n",
    "df = pd.read_csv('Dataset.csv', encoding='latin-1') "
   ]
  },
  {
   "cell_type": "code",
   "execution_count": 242,
   "metadata": {},
   "outputs": [
    {
     "data": {
      "text/plain": [
       "\"\\n# Предварительно перемешаем данные\\ndf = shuffle(df)\\n\\n#Запись в файл Эксель из таблицы Pandas\\nShuffle_Data = pd.ExcelWriter('Shuffle_Data.xlsx')\\ndf.to_excel(Shuffle_Data, index = False)\\nShuffle_Data.save()\\n\""
      ]
     },
     "execution_count": 242,
     "metadata": {},
     "output_type": "execute_result"
    }
   ],
   "source": [
    "\"\"\"\n",
    "# Предварительно перемешаем данные\n",
    "df = shuffle(df)\n",
    "\n",
    "#Запись в файл Эксель из таблицы Pandas\n",
    "Shuffle_Data = pd.ExcelWriter('Shuffle_Data.xlsx')\n",
    "df.to_excel(Shuffle_Data, index = False)\n",
    "Shuffle_Data.save()\n",
    "\"\"\""
   ]
  },
  {
   "cell_type": "code",
   "execution_count": 243,
   "metadata": {},
   "outputs": [
    {
     "data": {
      "text/html": [
       "<div>\n",
       "<style scoped>\n",
       "    .dataframe tbody tr th:only-of-type {\n",
       "        vertical-align: middle;\n",
       "    }\n",
       "\n",
       "    .dataframe tbody tr th {\n",
       "        vertical-align: top;\n",
       "    }\n",
       "\n",
       "    .dataframe thead th {\n",
       "        text-align: right;\n",
       "    }\n",
       "</style>\n",
       "<table border=\"1\" class=\"dataframe\">\n",
       "  <thead>\n",
       "    <tr style=\"text-align: right;\">\n",
       "      <th></th>\n",
       "      <th>x</th>\n",
       "      <th>y</th>\n",
       "      <th>z</th>\n",
       "      <th>d_x</th>\n",
       "      <th>d_y</th>\n",
       "      <th>d_z</th>\n",
       "      <th>fi</th>\n",
       "      <th>thetta</th>\n",
       "      <th>psi</th>\n",
       "      <th>d_fi</th>\n",
       "      <th>d_thetta</th>\n",
       "      <th>d_psi</th>\n",
       "      <th>Outcome</th>\n",
       "    </tr>\n",
       "  </thead>\n",
       "  <tbody>\n",
       "    <tr>\n",
       "      <th>0</th>\n",
       "      <td>-0.000044</td>\n",
       "      <td>-0.000178</td>\n",
       "      <td>-8.530000e-07</td>\n",
       "      <td>0.000044</td>\n",
       "      <td>0.000179</td>\n",
       "      <td>0.000006</td>\n",
       "      <td>-0.000018</td>\n",
       "      <td>0.000004</td>\n",
       "      <td>-0.000034</td>\n",
       "      <td>0.000018</td>\n",
       "      <td>-0.000004</td>\n",
       "      <td>0.000036</td>\n",
       "      <td>0</td>\n",
       "    </tr>\n",
       "    <tr>\n",
       "      <th>1</th>\n",
       "      <td>-0.110163</td>\n",
       "      <td>-0.096615</td>\n",
       "      <td>-1.051294e-01</td>\n",
       "      <td>-0.064434</td>\n",
       "      <td>-0.167006</td>\n",
       "      <td>-0.087618</td>\n",
       "      <td>-0.098391</td>\n",
       "      <td>-0.106327</td>\n",
       "      <td>-0.107474</td>\n",
       "      <td>0.851331</td>\n",
       "      <td>0.363000</td>\n",
       "      <td>-0.067917</td>\n",
       "      <td>1</td>\n",
       "    </tr>\n",
       "    <tr>\n",
       "      <th>2</th>\n",
       "      <td>-0.095329</td>\n",
       "      <td>-0.138420</td>\n",
       "      <td>-1.092485e-01</td>\n",
       "      <td>-0.008426</td>\n",
       "      <td>-0.113839</td>\n",
       "      <td>-0.054063</td>\n",
       "      <td>-0.044755</td>\n",
       "      <td>-0.066786</td>\n",
       "      <td>-0.104042</td>\n",
       "      <td>0.256113</td>\n",
       "      <td>0.125095</td>\n",
       "      <td>-0.032683</td>\n",
       "      <td>1</td>\n",
       "    </tr>\n",
       "    <tr>\n",
       "      <th>3</th>\n",
       "      <td>-0.111484</td>\n",
       "      <td>-0.102172</td>\n",
       "      <td>-1.075137e-01</td>\n",
       "      <td>-0.034207</td>\n",
       "      <td>-0.193541</td>\n",
       "      <td>-0.075497</td>\n",
       "      <td>-0.074116</td>\n",
       "      <td>-0.095515</td>\n",
       "      <td>-0.109110</td>\n",
       "      <td>0.786031</td>\n",
       "      <td>0.358000</td>\n",
       "      <td>-0.048139</td>\n",
       "      <td>1</td>\n",
       "    </tr>\n",
       "    <tr>\n",
       "      <th>4</th>\n",
       "      <td>-0.001287</td>\n",
       "      <td>-0.076536</td>\n",
       "      <td>-2.901535e-02</td>\n",
       "      <td>0.176885</td>\n",
       "      <td>0.006595</td>\n",
       "      <td>0.141945</td>\n",
       "      <td>0.105398</td>\n",
       "      <td>0.069049</td>\n",
       "      <td>0.007679</td>\n",
       "      <td>0.288711</td>\n",
       "      <td>0.237738</td>\n",
       "      <td>0.121593</td>\n",
       "      <td>1</td>\n",
       "    </tr>\n",
       "    <tr>\n",
       "      <th>...</th>\n",
       "      <td>...</td>\n",
       "      <td>...</td>\n",
       "      <td>...</td>\n",
       "      <td>...</td>\n",
       "      <td>...</td>\n",
       "      <td>...</td>\n",
       "      <td>...</td>\n",
       "      <td>...</td>\n",
       "      <td>...</td>\n",
       "      <td>...</td>\n",
       "      <td>...</td>\n",
       "      <td>...</td>\n",
       "      <td>...</td>\n",
       "    </tr>\n",
       "    <tr>\n",
       "      <th>7500</th>\n",
       "      <td>0.260410</td>\n",
       "      <td>0.217396</td>\n",
       "      <td>2.486210e-01</td>\n",
       "      <td>1.720533</td>\n",
       "      <td>1.649495</td>\n",
       "      <td>1.681616</td>\n",
       "      <td>0.353578</td>\n",
       "      <td>0.308347</td>\n",
       "      <td>0.254992</td>\n",
       "      <td>-0.297591</td>\n",
       "      <td>0.816017</td>\n",
       "      <td>1.682167</td>\n",
       "      <td>1</td>\n",
       "    </tr>\n",
       "    <tr>\n",
       "      <th>7501</th>\n",
       "      <td>-0.003961</td>\n",
       "      <td>-0.016230</td>\n",
       "      <td>-5.896180e-03</td>\n",
       "      <td>0.003955</td>\n",
       "      <td>0.016363</td>\n",
       "      <td>0.008066</td>\n",
       "      <td>-0.001677</td>\n",
       "      <td>0.000397</td>\n",
       "      <td>-0.003799</td>\n",
       "      <td>0.001712</td>\n",
       "      <td>-0.000408</td>\n",
       "      <td>0.003984</td>\n",
       "      <td>0</td>\n",
       "    </tr>\n",
       "    <tr>\n",
       "      <th>7502</th>\n",
       "      <td>-0.003028</td>\n",
       "      <td>-0.012383</td>\n",
       "      <td>-4.071147e-03</td>\n",
       "      <td>0.003029</td>\n",
       "      <td>0.012460</td>\n",
       "      <td>0.005674</td>\n",
       "      <td>-0.001273</td>\n",
       "      <td>0.000303</td>\n",
       "      <td>-0.002866</td>\n",
       "      <td>0.001308</td>\n",
       "      <td>-0.000301</td>\n",
       "      <td>0.003006</td>\n",
       "      <td>0</td>\n",
       "    </tr>\n",
       "    <tr>\n",
       "      <th>7503</th>\n",
       "      <td>-0.016259</td>\n",
       "      <td>-0.065823</td>\n",
       "      <td>-3.617751e-02</td>\n",
       "      <td>0.016921</td>\n",
       "      <td>0.065032</td>\n",
       "      <td>0.044817</td>\n",
       "      <td>-0.006211</td>\n",
       "      <td>0.001807</td>\n",
       "      <td>-0.016364</td>\n",
       "      <td>0.005633</td>\n",
       "      <td>-0.001638</td>\n",
       "      <td>0.017159</td>\n",
       "      <td>0</td>\n",
       "    </tr>\n",
       "    <tr>\n",
       "      <th>7504</th>\n",
       "      <td>-0.111104</td>\n",
       "      <td>-0.112640</td>\n",
       "      <td>-1.108924e-01</td>\n",
       "      <td>0.016300</td>\n",
       "      <td>-0.229000</td>\n",
       "      <td>-0.054200</td>\n",
       "      <td>-0.032091</td>\n",
       "      <td>-0.075131</td>\n",
       "      <td>-0.110286</td>\n",
       "      <td>0.631000</td>\n",
       "      <td>0.327000</td>\n",
       "      <td>-0.016000</td>\n",
       "      <td>1</td>\n",
       "    </tr>\n",
       "  </tbody>\n",
       "</table>\n",
       "<p>7505 rows × 13 columns</p>\n",
       "</div>"
      ],
      "text/plain": [
       "             x         y             z       d_x       d_y       d_z  \\\n",
       "0    -0.000044 -0.000178 -8.530000e-07  0.000044  0.000179  0.000006   \n",
       "1    -0.110163 -0.096615 -1.051294e-01 -0.064434 -0.167006 -0.087618   \n",
       "2    -0.095329 -0.138420 -1.092485e-01 -0.008426 -0.113839 -0.054063   \n",
       "3    -0.111484 -0.102172 -1.075137e-01 -0.034207 -0.193541 -0.075497   \n",
       "4    -0.001287 -0.076536 -2.901535e-02  0.176885  0.006595  0.141945   \n",
       "...        ...       ...           ...       ...       ...       ...   \n",
       "7500  0.260410  0.217396  2.486210e-01  1.720533  1.649495  1.681616   \n",
       "7501 -0.003961 -0.016230 -5.896180e-03  0.003955  0.016363  0.008066   \n",
       "7502 -0.003028 -0.012383 -4.071147e-03  0.003029  0.012460  0.005674   \n",
       "7503 -0.016259 -0.065823 -3.617751e-02  0.016921  0.065032  0.044817   \n",
       "7504 -0.111104 -0.112640 -1.108924e-01  0.016300 -0.229000 -0.054200   \n",
       "\n",
       "            fi    thetta       psi      d_fi  d_thetta     d_psi  Outcome  \n",
       "0    -0.000018  0.000004 -0.000034  0.000018 -0.000004  0.000036        0  \n",
       "1    -0.098391 -0.106327 -0.107474  0.851331  0.363000 -0.067917        1  \n",
       "2    -0.044755 -0.066786 -0.104042  0.256113  0.125095 -0.032683        1  \n",
       "3    -0.074116 -0.095515 -0.109110  0.786031  0.358000 -0.048139        1  \n",
       "4     0.105398  0.069049  0.007679  0.288711  0.237738  0.121593        1  \n",
       "...        ...       ...       ...       ...       ...       ...      ...  \n",
       "7500  0.353578  0.308347  0.254992 -0.297591  0.816017  1.682167        1  \n",
       "7501 -0.001677  0.000397 -0.003799  0.001712 -0.000408  0.003984        0  \n",
       "7502 -0.001273  0.000303 -0.002866  0.001308 -0.000301  0.003006        0  \n",
       "7503 -0.006211  0.001807 -0.016364  0.005633 -0.001638  0.017159        0  \n",
       "7504 -0.032091 -0.075131 -0.110286  0.631000  0.327000 -0.016000        1  \n",
       "\n",
       "[7505 rows x 13 columns]"
      ]
     },
     "execution_count": 243,
     "metadata": {},
     "output_type": "execute_result"
    }
   ],
   "source": [
    "df"
   ]
  },
  {
   "cell_type": "code",
   "execution_count": 244,
   "metadata": {},
   "outputs": [
    {
     "data": {
      "text/plain": [
       "'\\n# Отбор первых 1500 строк:\\ntask_data = df.head(1500)\\n'"
      ]
     },
     "execution_count": 244,
     "metadata": {},
     "output_type": "execute_result"
    }
   ],
   "source": [
    "\"\"\"\n",
    "# Отбор первых 1500 строк:\n",
    "task_data = df.head(1500)\n",
    "\"\"\""
   ]
  },
  {
   "cell_type": "code",
   "execution_count": 245,
   "metadata": {},
   "outputs": [
    {
     "data": {
      "image/png": "[encoded data removed]",
      "text/plain": [
       "<Figure size 1080x1080 with 2 Axes>"
      ]
     },
     "metadata": {
      "needs_background": "light"
     },
     "output_type": "display_data"
    }
   ],
   "source": [
    "# Построение матрицы корреляции. \"Heatmap\"\n",
    "import seaborn as sb\n",
    "\n",
    "# df.corr() - загрузка датасета\n",
    "# annot = True - выводит коэффициенты корреляции\n",
    "# fmt = '.1g' - определяет порядок числа после десятичной запятой. '.1g' - один знак после запятой\n",
    "# vmin = -1, vmax = 1, center = 0 - масштаб оси\n",
    "# cmap = 'coolwarm' - определяет цвет карты\n",
    "# linewidths = 0.1, linecolor = 'black' - определяет границы сеток матрицы\n",
    "# cbar_kws = {'orientation': 'horizontal'} - ориентирует по горизонтале карту\n",
    "# cbar = False - убирает цветовую шкалу\n",
    "# square = True - каждая ячейка станет принимать квадратную форму\n",
    "# matrix = np.triu(df.corr()) - операция для возвращения нижнего треугольника матрицы\n",
    "# matrix = np.tril(df.corr()) - операция для возвращения вернего треугольника матрицы\n",
    "# mask = matrix - аргумент для определения вывода матрицы корреляции\n",
    "\n",
    "# plt.subplots(figsize=(20,20)) - масштаб графика. Задается до вывода графика\n",
    "\n",
    "df_map = df.loc[:,'x':'d_psi'] # Выделение столбцов для матрицы корреляции\n",
    "matrix = np.triu(df_map.corr())\n",
    "plt.subplots(figsize=(15,15)) \n",
    "heatmap_correlation = sb.heatmap(df_map.corr(), annot = True, fmt = '.2g', vmin = -1, \n",
    "                                 vmax = 1, center = 0, cmap = 'coolwarm', square=True, \n",
    "                                 linewidths = 1, linecolor = 'black')"
   ]
  },
  {
   "cell_type": "code",
   "execution_count": 248,
   "metadata": {},
   "outputs": [],
   "source": [
    "# Преобразование DataSet согласно корреляционному анализу. Отфильтрованные данные с пониженной размерностью!\n",
    "new_data = df[['x','d_x','fi','d_fi','Outcome']]\n",
    "new_data"
   ]
  },
  {
   "cell_type": "code",
   "execution_count": 22,
   "metadata": {},
   "outputs": [
    {
     "data": {
      "text/plain": [
       "\"\\n# Удаление коллинеарных признаков\\n\\n# Зависимость между признаками\\nx = df['d_fi']\\ny = df['d_psi']\\n\\nfig, ax = plt.subplots(figsize=(20,20))\\nax.plot(x, y, linewidth=0, marker='s', label='Data points')\\nax.set_xlabel('d_fi')\\nax.set_ylabel('d_psi')\\nax.legend(facecolor='white')\\n\""
      ]
     },
     "execution_count": 22,
     "metadata": {},
     "output_type": "execute_result"
    }
   ],
   "source": [
    "\"\"\"\n",
    "# Удаление коллинеарных признаков\n",
    "\n",
    "# Зависимость между признаками\n",
    "x = df['d_fi']\n",
    "y = df['d_psi']\n",
    "\n",
    "fig, ax = plt.subplots(figsize=(20,20))\n",
    "ax.plot(x, y, linewidth=0, marker='s', label='Data points')\n",
    "ax.set_xlabel('d_fi')\n",
    "ax.set_ylabel('d_psi')\n",
    "ax.legend(facecolor='white')\n",
    "\"\"\""
   ]
  },
  {
   "cell_type": "code",
   "execution_count": 28,
   "metadata": {},
   "outputs": [
    {
     "data": {
      "text/plain": [
       "\"\\n# Метод главных компонент PCA - уменьшаем размерность данных\\ndata_numpy = df.to_numpy() # Конвертация в numpy массив\\ndata_target = data_numpy[:,12]\\ndata_features = data_numpy[:,:12]\\n\\nfrom sklearn.decomposition import PCA\\n\\npca = PCA(n_components=11, svd_solver='full') #Создание объекта класса PCA. В качестве параметров выступает количество ГК и метод оптимизации\\n#data_features_transformed = pca.fit(data_features).transform(data_features) # С учетом 11 компонент\\ndata_features_transformed = pca.fit(data_features)\\n\\n# Найдем долю объясненной дисперсии в зависимости от количества используемых ГК.\\nexplained_variance = np.round(np.cumsum(pca.explained_variance_ratio_), 3)\\n\\n# Построим график зависимости доли объясненной дисперсии от количества используемых ГК\\nplt.plot(np.arange(11), explained_variance, ls = '-')\\n\""
      ]
     },
     "execution_count": 28,
     "metadata": {},
     "output_type": "execute_result"
    }
   ],
   "source": [
    "\"\"\"\n",
    "# Метод главных компонент PCA - уменьшаем размерность данных\n",
    "data_numpy = df.to_numpy() # Конвертация в numpy массив\n",
    "data_target = data_numpy[:,12]\n",
    "data_features = data_numpy[:,:12]\n",
    "\n",
    "from sklearn.decomposition import PCA\n",
    "\n",
    "pca = PCA(n_components=11, svd_solver='full') #Создание объекта класса PCA. В качестве параметров выступает количество ГК и метод оптимизации\n",
    "#data_features_transformed = pca.fit(data_features).transform(data_features) # С учетом 11 компонент\n",
    "data_features_transformed = pca.fit(data_features)\n",
    "\n",
    "# Найдем долю объясненной дисперсии в зависимости от количества используемых ГК.\n",
    "explained_variance = np.round(np.cumsum(pca.explained_variance_ratio_), 3)\n",
    "\n",
    "# Построим график зависимости доли объясненной дисперсии от количества используемых ГК\n",
    "plt.plot(np.arange(11), explained_variance, ls = '-')\n",
    "\"\"\""
   ]
  },
  {
   "cell_type": "code",
   "execution_count": 29,
   "metadata": {},
   "outputs": [
    {
     "data": {
      "text/plain": [
       "\"\\n# Преобразованный массив признаков по методу PCA\\npca = PCA(n_components=4, svd_solver='full') \\ndata_features_transformed = pca.fit(data_features).transform(data_features) # С учетом 11 компонент\\ndata_features = pd.DataFrame(data_features_transformed) # из numpy --> pandas\\ndata_features\\n\""
      ]
     },
     "execution_count": 29,
     "metadata": {},
     "output_type": "execute_result"
    }
   ],
   "source": [
    "\"\"\"\n",
    "# Преобразованный массив признаков по методу PCA\n",
    "pca = PCA(n_components=4, svd_solver='full') \n",
    "data_features_transformed = pca.fit(data_features).transform(data_features) # С учетом 11 компонент\n",
    "data_features = pd.DataFrame(data_features_transformed) # из numpy --> pandas\n",
    "data_features\n",
    "\"\"\""
   ]
  },
  {
   "cell_type": "code",
   "execution_count": 30,
   "metadata": {},
   "outputs": [
    {
     "data": {
      "text/plain": [
       "6004"
      ]
     },
     "execution_count": 30,
     "metadata": {},
     "output_type": "execute_result"
    }
   ],
   "source": [
    "# Количество строк с атаками\n",
    "len(new_data[new_data['Outcome'] == 1])"
   ]
  },
  {
   "cell_type": "code",
   "execution_count": 31,
   "metadata": {},
   "outputs": [
    {
     "data": {
      "text/plain": [
       "1501"
      ]
     },
     "execution_count": 31,
     "metadata": {},
     "output_type": "execute_result"
    }
   ],
   "source": [
    "# Количество строк с нормальной работой\n",
    "len(new_data[new_data['Outcome'] == 0])"
   ]
  },
  {
   "cell_type": "code",
   "execution_count": 32,
   "metadata": {},
   "outputs": [],
   "source": [
    "# Разделеные данных на тренировочные и тестовые. Первые 70% строк — тренировочные, остальные — тестовые.\n",
    "train = new_data.head(int(len(new_data)*0.7))\n",
    "test = new_data.tail(int(len(new_data)*0.3))\n",
    "train.head()\n",
    "\n",
    "#Запись в файл Эксель из таблицы Pandas\n",
    "train_Data = pd.ExcelWriter('train_Data.xlsx')\n",
    "train.to_excel(train_Data, index = False)\n",
    "train_Data.save()\n",
    "\n",
    "test_Data = pd.ExcelWriter('test_Data.xlsx')\n",
    "test.to_excel(test_Data, index = False)\n",
    "test_Data.save()"
   ]
  },
  {
   "cell_type": "code",
   "execution_count": 34,
   "metadata": {},
   "outputs": [
    {
     "data": {
      "text/html": [
       "<div>\n",
       "<style scoped>\n",
       "    .dataframe tbody tr th:only-of-type {\n",
       "        vertical-align: middle;\n",
       "    }\n",
       "\n",
       "    .dataframe tbody tr th {\n",
       "        vertical-align: top;\n",
       "    }\n",
       "\n",
       "    .dataframe thead th {\n",
       "        text-align: right;\n",
       "    }\n",
       "</style>\n",
       "<table border=\"1\" class=\"dataframe\">\n",
       "  <thead>\n",
       "    <tr style=\"text-align: right;\">\n",
       "      <th></th>\n",
       "      <th>x</th>\n",
       "      <th>d_x</th>\n",
       "      <th>fi</th>\n",
       "      <th>d_fi</th>\n",
       "      <th>Outcome</th>\n",
       "    </tr>\n",
       "  </thead>\n",
       "  <tbody>\n",
       "    <tr>\n",
       "      <th>5254</th>\n",
       "      <td>0.294641</td>\n",
       "      <td>1.687136</td>\n",
       "      <td>0.343610</td>\n",
       "      <td>-0.565466</td>\n",
       "      <td>1</td>\n",
       "    </tr>\n",
       "    <tr>\n",
       "      <th>5255</th>\n",
       "      <td>-0.003279</td>\n",
       "      <td>0.003278</td>\n",
       "      <td>-0.001382</td>\n",
       "      <td>0.001418</td>\n",
       "      <td>0</td>\n",
       "    </tr>\n",
       "    <tr>\n",
       "      <th>5256</th>\n",
       "      <td>-0.074214</td>\n",
       "      <td>0.306227</td>\n",
       "      <td>-0.104220</td>\n",
       "      <td>0.990418</td>\n",
       "      <td>1</td>\n",
       "    </tr>\n",
       "    <tr>\n",
       "      <th>5257</th>\n",
       "      <td>-0.053197</td>\n",
       "      <td>0.385860</td>\n",
       "      <td>-0.037922</td>\n",
       "      <td>0.885627</td>\n",
       "      <td>1</td>\n",
       "    </tr>\n",
       "    <tr>\n",
       "      <th>5258</th>\n",
       "      <td>-0.074192</td>\n",
       "      <td>0.118739</td>\n",
       "      <td>0.054337</td>\n",
       "      <td>0.162029</td>\n",
       "      <td>1</td>\n",
       "    </tr>\n",
       "  </tbody>\n",
       "</table>\n",
       "</div>"
      ],
      "text/plain": [
       "             x       d_x        fi      d_fi  Outcome\n",
       "5254  0.294641  1.687136  0.343610 -0.565466        1\n",
       "5255 -0.003279  0.003278 -0.001382  0.001418        0\n",
       "5256 -0.074214  0.306227 -0.104220  0.990418        1\n",
       "5257 -0.053197  0.385860 -0.037922  0.885627        1\n",
       "5258 -0.074192  0.118739  0.054337  0.162029        1"
      ]
     },
     "execution_count": 34,
     "metadata": {},
     "output_type": "execute_result"
    }
   ],
   "source": [
    "test.head()"
   ]
  },
  {
   "cell_type": "code",
   "execution_count": 38,
   "metadata": {},
   "outputs": [],
   "source": [
    "# Выделяем предикторы (4 первых столбцов) и отклик (Outcome):\n",
    "features = list(train.columns[:4])\n",
    "x = train[features]\n",
    "y = train['Outcome']"
   ]
  },
  {
   "cell_type": "code",
   "execution_count": 39,
   "metadata": {},
   "outputs": [],
   "source": [
    "# Подключем классификатор DecisionTreeClassifier\n",
    "from sklearn.tree import DecisionTreeClassifier"
   ]
  },
  {
   "cell_type": "code",
   "execution_count": 217,
   "metadata": {},
   "outputs": [],
   "source": [
    "# Задаем параметры дерева принятия решений и обучаем модель\n",
    "tree = DecisionTreeClassifier(criterion='entropy', #критерий разделения\n",
    "                              min_samples_leaf = 4, #минимальное число объектов в листе\n",
    "                              max_depth = 3) #максимальная глубина дерева\n",
    "clf = tree.fit(x, y)"
   ]
  },
  {
   "cell_type": "code",
   "execution_count": 218,
   "metadata": {},
   "outputs": [
    {
     "data": {
      "text/plain": [
       "2"
      ]
     },
     "execution_count": 218,
     "metadata": {},
     "output_type": "execute_result"
    }
   ],
   "source": [
    "# Визуализация дерева\n",
    "from sklearn import tree\n",
    "from os import system\n",
    "\n",
    "dotfile = open(\"D:/dtree2.dot\", 'w')\n",
    "tree.export_graphviz(clf, out_file = dotfile, feature_names = x.columns)\n",
    "dotfile.close()\n",
    "system(\"dot -Tpng D:.dot -o D:/dtree2.png\")\n"
   ]
  },
  {
   "cell_type": "code",
   "execution_count": 219,
   "metadata": {},
   "outputs": [
    {
     "data": {
      "text/plain": [
       "3"
      ]
     },
     "execution_count": 219,
     "metadata": {},
     "output_type": "execute_result"
    }
   ],
   "source": [
    "# Глубина дерева\n",
    "clf.tree_.max_depth"
   ]
  },
  {
   "cell_type": "code",
   "execution_count": 220,
   "metadata": {},
   "outputs": [
    {
     "data": {
      "text/html": [
       "<div>\n",
       "<style scoped>\n",
       "    .dataframe tbody tr th:only-of-type {\n",
       "        vertical-align: middle;\n",
       "    }\n",
       "\n",
       "    .dataframe tbody tr th {\n",
       "        vertical-align: top;\n",
       "    }\n",
       "\n",
       "    .dataframe thead th {\n",
       "        text-align: right;\n",
       "    }\n",
       "</style>\n",
       "<table border=\"1\" class=\"dataframe\">\n",
       "  <thead>\n",
       "    <tr style=\"text-align: right;\">\n",
       "      <th></th>\n",
       "      <th>x</th>\n",
       "      <th>d_x</th>\n",
       "      <th>fi</th>\n",
       "      <th>d_fi</th>\n",
       "    </tr>\n",
       "  </thead>\n",
       "  <tbody>\n",
       "    <tr>\n",
       "      <th>0</th>\n",
       "      <td>-0.000044</td>\n",
       "      <td>0.000044</td>\n",
       "      <td>-0.000018</td>\n",
       "      <td>0.000018</td>\n",
       "    </tr>\n",
       "    <tr>\n",
       "      <th>1</th>\n",
       "      <td>-0.110163</td>\n",
       "      <td>-0.064434</td>\n",
       "      <td>-0.098391</td>\n",
       "      <td>0.851331</td>\n",
       "    </tr>\n",
       "    <tr>\n",
       "      <th>2</th>\n",
       "      <td>-0.095329</td>\n",
       "      <td>-0.008426</td>\n",
       "      <td>-0.044755</td>\n",
       "      <td>0.256113</td>\n",
       "    </tr>\n",
       "    <tr>\n",
       "      <th>3</th>\n",
       "      <td>-0.111484</td>\n",
       "      <td>-0.034207</td>\n",
       "      <td>-0.074116</td>\n",
       "      <td>0.786031</td>\n",
       "    </tr>\n",
       "    <tr>\n",
       "      <th>4</th>\n",
       "      <td>-0.001287</td>\n",
       "      <td>0.176885</td>\n",
       "      <td>0.105398</td>\n",
       "      <td>0.288711</td>\n",
       "    </tr>\n",
       "  </tbody>\n",
       "</table>\n",
       "</div>"
      ],
      "text/plain": [
       "          x       d_x        fi      d_fi\n",
       "0 -0.000044  0.000044 -0.000018  0.000018\n",
       "1 -0.110163 -0.064434 -0.098391  0.851331\n",
       "2 -0.095329 -0.008426 -0.044755  0.256113\n",
       "3 -0.111484 -0.034207 -0.074116  0.786031\n",
       "4 -0.001287  0.176885  0.105398  0.288711"
      ]
     },
     "execution_count": 220,
     "metadata": {},
     "output_type": "execute_result"
    }
   ],
   "source": [
    "# Выполняем предсказание для объектов из тестовой выборки\n",
    "features_x = list(test.columns[:4])\n",
    "x_t = test[features_x]\n",
    "y_true = test['Outcome']\n",
    "y_pred = clf.predict(x_t)\n",
    "x.head()"
   ]
  },
  {
   "cell_type": "code",
   "execution_count": 221,
   "metadata": {},
   "outputs": [
    {
     "data": {
      "text/plain": [
       "0.9733451799200356"
      ]
     },
     "execution_count": 221,
     "metadata": {},
     "output_type": "execute_result"
    }
   ],
   "source": [
    "# Доля правильных ответов классификатора\n",
    "from sklearn.metrics import accuracy_score\n",
    "accuracy_score(y_true, y_pred)"
   ]
  },
  {
   "cell_type": "code",
   "execution_count": 222,
   "metadata": {},
   "outputs": [
    {
     "data": {
      "text/plain": [
       "0.9568790467798168"
      ]
     },
     "execution_count": 222,
     "metadata": {},
     "output_type": "execute_result"
    }
   ],
   "source": [
    "# Среднее значение метрик  F1  (Macro-F1)\n",
    "from sklearn.metrics import f1_score\n",
    "f1_score(y_true, y_pred, average='macro')"
   ]
  },
  {
   "cell_type": "code",
   "execution_count": 223,
   "metadata": {},
   "outputs": [
    {
     "data": {
      "text/plain": [
       "0"
      ]
     },
     "execution_count": 223,
     "metadata": {},
     "output_type": "execute_result"
    }
   ],
   "source": [
    "i = 0\n",
    "df.loc[i, features_x]\n",
    "# Решение алгоритма  для выбранного элемента\n",
    "clf.predict([df.loc[i, features_x].tolist()])[0]"
   ]
  },
  {
   "cell_type": "code",
   "execution_count": 224,
   "metadata": {},
   "outputs": [
    {
     "data": {
      "text/plain": [
       "x         -0.000044\n",
       "d_x        0.000044\n",
       "fi        -0.000018\n",
       "d_fi       0.000018\n",
       "Outcome    0.000000\n",
       "Name: 0, dtype: float64"
      ]
     },
     "execution_count": 224,
     "metadata": {},
     "output_type": "execute_result"
    }
   ],
   "source": [
    "# Проверка предсказания\n",
    "features_1 = list(test.columns[:5])\n",
    "df.loc[i, features_1]"
   ]
  },
  {
   "cell_type": "code",
   "execution_count": 225,
   "metadata": {},
   "outputs": [
    {
     "name": "stdout",
     "output_type": "stream",
     "text": [
      "Mean Absolute Error: 0.02665482007996446\n",
      "Mean Squared Error: 0.02665482007996446\n",
      "Root Mean Squared Error: 0.16326303954038238\n"
     ]
    }
   ],
   "source": [
    "from sklearn import metrics\n",
    "print('Mean Absolute Error:', metrics.mean_absolute_error(y_true, y_pred))\n",
    "print('Mean Squared Error:', metrics.mean_squared_error(y_true, y_pred))\n",
    "print('Root Mean Squared Error:', np.sqrt(metrics.mean_squared_error(y_true, y_pred)))\n"
   ]
  },
  {
   "cell_type": "code",
   "execution_count": 226,
   "metadata": {},
   "outputs": [
    {
     "data": {
      "text/plain": [
       "0.9762040738625547"
      ]
     },
     "execution_count": 226,
     "metadata": {},
     "output_type": "execute_result"
    }
   ],
   "source": [
    "# Точность на тренировочных данных\n",
    "train_accuracy = clf.score(x, y)\n",
    "train_accuracy"
   ]
  },
  {
   "cell_type": "code",
   "execution_count": 227,
   "metadata": {},
   "outputs": [
    {
     "data": {
      "text/plain": [
       "0.9733451799200356"
      ]
     },
     "execution_count": 227,
     "metadata": {},
     "output_type": "execute_result"
    }
   ],
   "source": [
    "# Точность на тестовых данных\n",
    "test_accuracy = clf.score(x_t, y_true)\n",
    "test_accuracy"
   ]
  },
  {
   "cell_type": "code",
   "execution_count": 228,
   "metadata": {},
   "outputs": [
    {
     "data": {
      "text/plain": [
       "<matplotlib.legend.Legend at 0x194a4f9a100>"
      ]
     },
     "execution_count": 228,
     "metadata": {},
     "output_type": "execute_result"
    },
    {
     "data": {
      "image/png": "[encoded data removed]",
      "text/plain": [
       "<Figure size 792x792 with 1 Axes>"
      ]
     },
     "metadata": {
      "needs_background": "light"
     },
     "output_type": "display_data"
    }
   ],
   "source": [
    "# График зависимости точности от глубины дерева\n",
    "import matplotlib.pyplot as plt\n",
    "plt.subplots(figsize=(11,11)) \n",
    "Max_depth = np.array([1, 2, 3, 4, 5, 6, 7, 8, 9, 10, 11, 12, 13])\n",
    "Accuracy_train = np.array([0.801, 0.965, 0.976, 0.979, 0.987, 0.992, 0.993, 0.994, 0.995, 0.997, 0.997, 0.998, 0.997])\n",
    "Accuracy_test = np.array([0.798, 0.963, 0.973, 0.977, 0.982, 0.987, 0.989, 0.989, 0.989, 0.991, 0.991, 0.990, 0.991])\n",
    "# Построение графика\n",
    "plt.title(\"График зависимости точности от максимальной глубины дерева\", fontsize = 18) # заголовок\n",
    "plt.xlabel(\"Max_depth\", fontsize = 18) # ось абсцисс\n",
    "plt.ylabel(\"Accuracy\", fontsize = 18) # ось ординат\n",
    "plt.grid()      # включение отображение сетки\n",
    "plt.plot(Max_depth, Accuracy_train, 'r', label='Тренировочные данные')  # построение графика\n",
    "plt.plot(Max_depth, Accuracy_test, 'b', label='Тестовые данные')  # построение графика\n",
    "plt.legend(fontsize = 18)"
   ]
  },
  {
   "cell_type": "code",
   "execution_count": null,
   "metadata": {},
   "outputs": [],
   "source": []
  }
 ],
 "metadata": {
  "kernelspec": {
   "display_name": "Python 3",
   "language": "python",
   "name": "python3"
  },
  "language_info": {
   "codemirror_mode": {
    "name": "ipython",
    "version": 3
   },
   "file_extension": ".py",
   "mimetype": "text/x-python",
   "name": "python",
   "nbconvert_exporter": "python",
   "pygments_lexer": "ipython3",
   "version": "3.8.10"
  }
 },
 "nbformat": 4,
 "nbformat_minor": 4
}
