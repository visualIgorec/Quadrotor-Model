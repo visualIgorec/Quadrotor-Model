{
 "cells": [
  {
   "cell_type": "code",
   "execution_count": 19,
   "metadata": {},
   "outputs": [],
   "source": [
    "import pandas as pd\n",
    "import matplotlib\n",
    "import numpy as np\n",
    "import matplotlib.pyplot as plt\n",
    "from sklearn.cluster import KMeans"
   ]
  },
  {
   "cell_type": "code",
   "execution_count": 20,
   "metadata": {},
   "outputs": [
    {
     "data": {
      "text/html": [
       "<div>\n",
       "<style scoped>\n",
       "    .dataframe tbody tr th:only-of-type {\n",
       "        vertical-align: middle;\n",
       "    }\n",
       "\n",
       "    .dataframe tbody tr th {\n",
       "        vertical-align: top;\n",
       "    }\n",
       "\n",
       "    .dataframe thead th {\n",
       "        text-align: right;\n",
       "    }\n",
       "</style>\n",
       "<table border=\"1\" class=\"dataframe\">\n",
       "  <thead>\n",
       "    <tr style=\"text-align: right;\">\n",
       "      <th></th>\n",
       "      <th>x</th>\n",
       "      <th>y</th>\n",
       "      <th>z</th>\n",
       "      <th>d_x</th>\n",
       "      <th>d_y</th>\n",
       "      <th>d_z</th>\n",
       "      <th>fi</th>\n",
       "      <th>thetta</th>\n",
       "      <th>psi</th>\n",
       "      <th>d_fi</th>\n",
       "      <th>d_thetta</th>\n",
       "      <th>d_psi</th>\n",
       "      <th>Outcome</th>\n",
       "    </tr>\n",
       "  </thead>\n",
       "  <tbody>\n",
       "    <tr>\n",
       "      <th>0</th>\n",
       "      <td>-0.000044</td>\n",
       "      <td>-0.000178</td>\n",
       "      <td>-8.530000e-07</td>\n",
       "      <td>0.000044</td>\n",
       "      <td>0.000179</td>\n",
       "      <td>0.000006</td>\n",
       "      <td>-0.000018</td>\n",
       "      <td>0.000004</td>\n",
       "      <td>-0.000034</td>\n",
       "      <td>0.000018</td>\n",
       "      <td>-0.000004</td>\n",
       "      <td>0.000036</td>\n",
       "      <td>0</td>\n",
       "    </tr>\n",
       "    <tr>\n",
       "      <th>1</th>\n",
       "      <td>-0.110163</td>\n",
       "      <td>-0.096615</td>\n",
       "      <td>-1.051294e-01</td>\n",
       "      <td>-0.064434</td>\n",
       "      <td>-0.167006</td>\n",
       "      <td>-0.087618</td>\n",
       "      <td>-0.098391</td>\n",
       "      <td>-0.106327</td>\n",
       "      <td>-0.107474</td>\n",
       "      <td>0.851331</td>\n",
       "      <td>0.363000</td>\n",
       "      <td>-0.067917</td>\n",
       "      <td>1</td>\n",
       "    </tr>\n",
       "    <tr>\n",
       "      <th>2</th>\n",
       "      <td>-0.095329</td>\n",
       "      <td>-0.138420</td>\n",
       "      <td>-1.092485e-01</td>\n",
       "      <td>-0.008426</td>\n",
       "      <td>-0.113839</td>\n",
       "      <td>-0.054063</td>\n",
       "      <td>-0.044755</td>\n",
       "      <td>-0.066786</td>\n",
       "      <td>-0.104042</td>\n",
       "      <td>0.256113</td>\n",
       "      <td>0.125095</td>\n",
       "      <td>-0.032683</td>\n",
       "      <td>1</td>\n",
       "    </tr>\n",
       "    <tr>\n",
       "      <th>3</th>\n",
       "      <td>-0.111484</td>\n",
       "      <td>-0.102172</td>\n",
       "      <td>-1.075137e-01</td>\n",
       "      <td>-0.034207</td>\n",
       "      <td>-0.193541</td>\n",
       "      <td>-0.075497</td>\n",
       "      <td>-0.074116</td>\n",
       "      <td>-0.095515</td>\n",
       "      <td>-0.109110</td>\n",
       "      <td>0.786031</td>\n",
       "      <td>0.358000</td>\n",
       "      <td>-0.048139</td>\n",
       "      <td>1</td>\n",
       "    </tr>\n",
       "    <tr>\n",
       "      <th>4</th>\n",
       "      <td>-0.001287</td>\n",
       "      <td>-0.076536</td>\n",
       "      <td>-2.901535e-02</td>\n",
       "      <td>0.176885</td>\n",
       "      <td>0.006595</td>\n",
       "      <td>0.141945</td>\n",
       "      <td>0.105398</td>\n",
       "      <td>0.069049</td>\n",
       "      <td>0.007679</td>\n",
       "      <td>0.288711</td>\n",
       "      <td>0.237738</td>\n",
       "      <td>0.121593</td>\n",
       "      <td>1</td>\n",
       "    </tr>\n",
       "  </tbody>\n",
       "</table>\n",
       "</div>"
      ],
      "text/plain": [
       "          x         y             z       d_x       d_y       d_z        fi  \\\n",
       "0 -0.000044 -0.000178 -8.530000e-07  0.000044  0.000179  0.000006 -0.000018   \n",
       "1 -0.110163 -0.096615 -1.051294e-01 -0.064434 -0.167006 -0.087618 -0.098391   \n",
       "2 -0.095329 -0.138420 -1.092485e-01 -0.008426 -0.113839 -0.054063 -0.044755   \n",
       "3 -0.111484 -0.102172 -1.075137e-01 -0.034207 -0.193541 -0.075497 -0.074116   \n",
       "4 -0.001287 -0.076536 -2.901535e-02  0.176885  0.006595  0.141945  0.105398   \n",
       "\n",
       "     thetta       psi      d_fi  d_thetta     d_psi  Outcome  \n",
       "0  0.000004 -0.000034  0.000018 -0.000004  0.000036        0  \n",
       "1 -0.106327 -0.107474  0.851331  0.363000 -0.067917        1  \n",
       "2 -0.066786 -0.104042  0.256113  0.125095 -0.032683        1  \n",
       "3 -0.095515 -0.109110  0.786031  0.358000 -0.048139        1  \n",
       "4  0.069049  0.007679  0.288711  0.237738  0.121593        1  "
      ]
     },
     "execution_count": 20,
     "metadata": {},
     "output_type": "execute_result"
    }
   ],
   "source": [
    "# Тренировочные данные после преобразования \"Heatmap\"\n",
    "train_Data_pre = pd.read_csv('DataSet.csv', encoding='latin-1')\n",
    "#train_Data_pre = pd.read_csv('Data_Set.csv', encoding='latin-1')\n",
    "train_Data_pre.head()"
   ]
  },
  {
   "cell_type": "code",
   "execution_count": 21,
   "metadata": {},
   "outputs": [
    {
     "data": {
      "text/html": [
       "<div>\n",
       "<style scoped>\n",
       "    .dataframe tbody tr th:only-of-type {\n",
       "        vertical-align: middle;\n",
       "    }\n",
       "\n",
       "    .dataframe tbody tr th {\n",
       "        vertical-align: top;\n",
       "    }\n",
       "\n",
       "    .dataframe thead th {\n",
       "        text-align: right;\n",
       "    }\n",
       "</style>\n",
       "<table border=\"1\" class=\"dataframe\">\n",
       "  <thead>\n",
       "    <tr style=\"text-align: right;\">\n",
       "      <th></th>\n",
       "      <th>x</th>\n",
       "      <th>d_x</th>\n",
       "      <th>fi</th>\n",
       "      <th>d_fi</th>\n",
       "    </tr>\n",
       "  </thead>\n",
       "  <tbody>\n",
       "    <tr>\n",
       "      <th>0</th>\n",
       "      <td>-0.000044</td>\n",
       "      <td>0.000044</td>\n",
       "      <td>-0.000018</td>\n",
       "      <td>0.000018</td>\n",
       "    </tr>\n",
       "    <tr>\n",
       "      <th>1</th>\n",
       "      <td>-0.110163</td>\n",
       "      <td>-0.064434</td>\n",
       "      <td>-0.098391</td>\n",
       "      <td>0.851331</td>\n",
       "    </tr>\n",
       "    <tr>\n",
       "      <th>2</th>\n",
       "      <td>-0.095329</td>\n",
       "      <td>-0.008426</td>\n",
       "      <td>-0.044755</td>\n",
       "      <td>0.256113</td>\n",
       "    </tr>\n",
       "    <tr>\n",
       "      <th>3</th>\n",
       "      <td>-0.111484</td>\n",
       "      <td>-0.034207</td>\n",
       "      <td>-0.074116</td>\n",
       "      <td>0.786031</td>\n",
       "    </tr>\n",
       "    <tr>\n",
       "      <th>4</th>\n",
       "      <td>-0.001287</td>\n",
       "      <td>0.176885</td>\n",
       "      <td>0.105398</td>\n",
       "      <td>0.288711</td>\n",
       "    </tr>\n",
       "  </tbody>\n",
       "</table>\n",
       "</div>"
      ],
      "text/plain": [
       "          x       d_x        fi      d_fi\n",
       "0 -0.000044  0.000044 -0.000018  0.000018\n",
       "1 -0.110163 -0.064434 -0.098391  0.851331\n",
       "2 -0.095329 -0.008426 -0.044755  0.256113\n",
       "3 -0.111484 -0.034207 -0.074116  0.786031\n",
       "4 -0.001287  0.176885  0.105398  0.288711"
      ]
     },
     "execution_count": 21,
     "metadata": {},
     "output_type": "execute_result"
    }
   ],
   "source": [
    "train_Data = train_Data_pre[['x','d_x','fi','d_fi']]\n",
    "#train_Data = train_Data_pre[['x','y','z','d_x','d_y','d_z','fi','thetta','psi','d_fi','d_thetta','d_psi']]\n",
    "train_Data.head()"
   ]
  },
  {
   "cell_type": "code",
   "execution_count": 22,
   "metadata": {},
   "outputs": [
    {
     "data": {
      "text/plain": [
       "'\\n# Нормализация данных\\nfrom sklearn import preprocessing\\nnormalization = preprocessing.StandardScaler()\\nnormalization.fit(train_Data)\\ntrain_Data = normalization.transform(train_Data)\\ntrain_Data = pd.DataFrame(data = train_Data)  # Перевод из numpy ---> pandas\\ntrain_Data\\n'"
      ]
     },
     "execution_count": 22,
     "metadata": {},
     "output_type": "execute_result"
    }
   ],
   "source": [
    "\"\"\"\n",
    "# Нормализация данных\n",
    "from sklearn import preprocessing\n",
    "normalization = preprocessing.StandardScaler()\n",
    "normalization.fit(train_Data)\n",
    "train_Data = normalization.transform(train_Data)\n",
    "train_Data = pd.DataFrame(data = train_Data)  # Перевод из numpy ---> pandas\n",
    "train_Data\n",
    "\"\"\"\n"
   ]
  },
  {
   "cell_type": "code",
   "execution_count": 23,
   "metadata": {},
   "outputs": [],
   "source": [
    "# Задание параметров модели k-means\n",
    "kmeans = KMeans(algorithm = 'auto', n_clusters = 2, init = 'k-means++', \n",
    "                n_init = 10, max_iter = 1000, tol = 0.0001, verbose = 0, random_state = 42).fit(train_Data)"
   ]
  },
  {
   "cell_type": "code",
   "execution_count": 24,
   "metadata": {},
   "outputs": [
    {
     "data": {
      "text/plain": [
       "array([0, 0, 0, ..., 0, 0, 0])"
      ]
     },
     "execution_count": 24,
     "metadata": {},
     "output_type": "execute_result"
    }
   ],
   "source": [
    "# Назначеные кластеры (классы) для тренировочных данных\n",
    "labels_train = kmeans.labels_\n",
    "labels_train"
   ]
  },
  {
   "cell_type": "code",
   "execution_count": 25,
   "metadata": {},
   "outputs": [
    {
     "data": {
      "text/plain": [
       "array([[-5.77516074e-02,  3.21713506e-01,  9.14375214e-04,\n",
       "         3.02363307e-01],\n",
       "       [-1.34850125e-01, -1.94825348e+01, -1.50118018e-01,\n",
       "        -2.01337881e+01]])"
      ]
     },
     "execution_count": 25,
     "metadata": {},
     "output_type": "execute_result"
    }
   ],
   "source": [
    "# Координаты вычисленных центроидов\n",
    "kmeans.cluster_centers_"
   ]
  },
  {
   "cell_type": "code",
   "execution_count": 26,
   "metadata": {},
   "outputs": [
    {
     "data": {
      "text/plain": [
       "0.9075581177957187"
      ]
     },
     "execution_count": 26,
     "metadata": {},
     "output_type": "execute_result"
    }
   ],
   "source": [
    "# Расчет коэффициента Силуета (Silhouette coefficient), который характеризуюет степень разделенности кластеров относительно друг друга\n",
    "from sklearn.metrics import silhouette_score\n",
    "Sil_score = silhouette_score(train_Data, labels_train)\n",
    "Sil_score"
   ]
  },
  {
   "cell_type": "code",
   "execution_count": 27,
   "metadata": {},
   "outputs": [
    {
     "data": {
      "text/plain": [
       "7505"
      ]
     },
     "execution_count": 27,
     "metadata": {},
     "output_type": "execute_result"
    }
   ],
   "source": [
    "len(train_Data_pre)"
   ]
  },
  {
   "cell_type": "code",
   "execution_count": 28,
   "metadata": {},
   "outputs": [
    {
     "name": "stdout",
     "output_type": "stream",
     "text": [
      "Number of Zeros is appointed by K-means:  7409 Number of Zeros is appointed by me:  1501 \n",
      " Number of units is appointed by K-means:  96 Number of units is appointed by me:  6004\n"
     ]
    }
   ],
   "source": [
    "# from model on train_data\n",
    "i = 0\n",
    "n = 0\n",
    "number_labels_zero = [i for j in labels_train if j == 0]\n",
    "model_labels_zero = len(number_labels_zero)\n",
    "number_labels_one = [n for m in labels_train if m == 1]\n",
    "model_labels_one = len(number_labels_one)\n",
    "\n",
    "# from train_data (truth)\n",
    "i = 0\n",
    "n = 0\n",
    "number_labels_zero = [i for j in train_Data_pre['Outcome'] if j == 0]\n",
    "target_labels_zero = len(number_labels_zero)\n",
    "number_labels_one = [n for m in train_Data_pre['Outcome'] if m == 1]\n",
    "target_labels_one = len(number_labels_one)\n",
    "\n",
    "print('Number of Zeros is appointed by K-means: ', model_labels_zero,\n",
    "      'Number of Zeros is appointed by me: ', target_labels_zero, '\\n',\n",
    "      'Number of units is appointed by K-means: ', model_labels_one,\n",
    "      'Number of units is appointed by me: ', target_labels_one)"
   ]
  },
  {
   "cell_type": "code",
   "execution_count": 29,
   "metadata": {},
   "outputs": [],
   "source": [
    "K = range(1,12)\n",
    "models = [KMeans(algorithm = 'auto', n_clusters = cluster, init = 'k-means++', \n",
    "                n_init = 100, max_iter = 1000, tol = 0.00001, verbose = 0, random_state = 42).fit(train_Data) for cluster in K]\n",
    "sum_dist = [model.inertia_ for model in models]"
   ]
  },
  {
   "cell_type": "code",
   "execution_count": 30,
   "metadata": {},
   "outputs": [
    {
     "data": {
      "text/plain": [
       "[<matplotlib.lines.Line2D at 0x1738014bdc0>]"
      ]
     },
     "execution_count": 30,
     "metadata": {},
     "output_type": "execute_result"
    },
    {
     "data": {
      "image/png": "[encoded data removed]",
      "text/plain": [
       "<Figure size 720x720 with 1 Axes>"
      ]
     },
     "metadata": {
      "needs_background": "light"
     },
     "output_type": "display_data"
    }
   ],
   "source": [
    "# График зависимости средней кластерной суммы расстояний от числа кластеров (Elbow method)\n",
    "plt.subplots(figsize = (10,10))\n",
    "plt.title('The Elbow method for choosing optimal cluster numbers', fontsize = 18)\n",
    "plt.xlabel('k - Clusters', fontsize = 18)\n",
    "plt.ylabel('W(k) - Sum of distances', fontsize = 18)\n",
    "plt.tick_params(axis = 'both', which = 'major', labelsize = 12)\n",
    "plt.grid() \n",
    "plt.plot(K, sum_dist, marker = 'o', color ='r') "
   ]
  },
  {
   "cell_type": "code",
   "execution_count": null,
   "metadata": {},
   "outputs": [],
   "source": []
  }
 ],
 "metadata": {
  "kernelspec": {
   "display_name": "Python 3",
   "language": "python",
   "name": "python3"
  },
  "language_info": {
   "codemirror_mode": {
    "name": "ipython",
    "version": 3
   },
   "file_extension": ".py",
   "mimetype": "text/x-python",
   "name": "python",
   "nbconvert_exporter": "python",
   "pygments_lexer": "ipython3",
   "version": "3.8.10"
  }
 },
 "nbformat": 4,
 "nbformat_minor": 4
}
